{
 "cells": [
  {
   "cell_type": "code",
   "execution_count": 278,
   "metadata": {},
   "outputs": [],
   "source": [
    "# Load Data\n",
    "\n",
    "from FlightRadar24.api import FlightRadar24API\n",
    "fr_api = FlightRadar24API()\n",
    "\n",
    "\n",
    "airports = fr_api.get_airports()\n",
    "\n",
    "airlines = fr_api.get_airlines()\n",
    "\n",
    "flights = fr_api.get_flights()\n",
    "\n",
    "zones = fr_api.get_zones()"
   ]
  },
  {
   "cell_type": "code",
   "execution_count": 81,
   "metadata": {},
   "outputs": [],
   "source": [
    "# SparkSession\n",
    "\n",
    "from pyspark.sql.types import *\n",
    "\n",
    "from pyspark.sql import Row, SparkSession\n",
    "\n",
    "spark = SparkSession.builder.getOrCreate()"
   ]
  },
  {
   "cell_type": "code",
   "execution_count": 82,
   "metadata": {},
   "outputs": [],
   "source": [
    "# Transform airports data list into spark dataframe\n",
    "\n",
    "airports_schema = StructType([StructField(\"name\", StringType(), True)\\\n",
    "                       ,StructField(\"iata\", StringType(), True)\\\n",
    "                       ,StructField(\"icao\", StringType(), True)\\\n",
    "                       ,StructField(\"lat\", StringType(), True)\\\n",
    "                       ,StructField(\"lon\", StringType(), True)\\\n",
    "                       ,StructField(\"country\", StringType(), True)\\\n",
    "                       ,StructField(\"alt\", StringType(), True)])\n",
    "\n",
    "airports_df = spark.createDataFrame(data = airports, schema=airports_schema)"
   ]
  },
  {
   "cell_type": "code",
   "execution_count": 83,
   "metadata": {},
   "outputs": [],
   "source": [
    "# Transform airlines data list into spark dataframe\n",
    "\n",
    "airlines_schema = StructType([StructField(\"Name\", StringType(), True)\\\n",
    "                       ,StructField(\"Code\", StringType(), True)\\\n",
    "                       ,StructField(\"ICAO\", StringType(), True)])\n",
    "\n",
    "airlines_df = spark.createDataFrame(data = airlines, schema = airlines_schema)"
   ]
  },
  {
   "cell_type": "code",
   "execution_count": 84,
   "metadata": {},
   "outputs": [],
   "source": [
    "# Transform flights data list into spark dataframe\n",
    "\n",
    "flights_df = spark.createDataFrame(flights)"
   ]
  },
  {
   "cell_type": "code",
   "execution_count": 85,
   "metadata": {},
   "outputs": [],
   "source": [
    "# Transform flights data list into spark dataframe\n",
    "\n",
    "flights_df = spark.createDataFrame(flights)"
   ]
  },
  {
   "cell_type": "code",
   "execution_count": 86,
   "metadata": {},
   "outputs": [],
   "source": [
    "flights_df = spark.createDataFrame(data = flights)"
   ]
  },
  {
   "cell_type": "code",
   "execution_count": 89,
   "metadata": {},
   "outputs": [],
   "source": [
    "from pyspark.sql.functions import *\n",
    "\n",
    "df = flights_df.groupBy('airline_icao').count().sort(desc(\"count\"))"
   ]
  },
  {
   "cell_type": "code",
   "execution_count": 98,
   "metadata": {},
   "outputs": [
    {
     "name": "stdout",
     "output_type": "stream",
     "text": [
      "+------------+-----+\n",
      "|airline_icao|count|\n",
      "+------------+-----+\n",
      "|         N/A|  251|\n",
      "|         AAL|   82|\n",
      "+------------+-----+\n",
      "only showing top 2 rows\n",
      "\n"
     ]
    }
   ],
   "source": [
    "df.show(2)"
   ]
  },
  {
   "cell_type": "code",
   "execution_count": 99,
   "metadata": {},
   "outputs": [
    {
     "name": "stdout",
     "output_type": "stream",
     "text": [
      "AAL\n"
     ]
    }
   ],
   "source": [
    "print(df.where(df.airline_icao != \"N/A\").collect()[0][\"airline_icao\"])"
   ]
  },
  {
   "cell_type": "code",
   "execution_count": 53,
   "metadata": {},
   "outputs": [
    {
     "data": {
      "text/plain": [
       "{'europe': {'tl_y': 72.57,\n",
       "  'tl_x': -16.96,\n",
       "  'br_y': 33.57,\n",
       "  'br_x': 53.05,\n",
       "  'subzones': {'poland': {'tl_y': 56.86,\n",
       "    'tl_x': 11.06,\n",
       "    'br_y': 48.22,\n",
       "    'br_x': 28.26},\n",
       "   'germany': {'tl_y': 57.92, 'tl_x': 1.81, 'br_y': 45.81, 'br_x': 16.83},\n",
       "   'uk': {'tl_y': 62.61,\n",
       "    'tl_x': -13.07,\n",
       "    'br_y': 49.71,\n",
       "    'br_x': 3.46,\n",
       "    'subzones': {'london': {'tl_y': 53.06,\n",
       "      'tl_x': -2.87,\n",
       "      'br_y': 50.07,\n",
       "      'br_x': 3.26},\n",
       "     'ireland': {'tl_y': 56.22, 'tl_x': -11.71, 'br_y': 50.91, 'br_x': -4.4}}},\n",
       "   'spain': {'tl_y': 44.36, 'tl_x': -11.06, 'br_y': 35.76, 'br_x': 4.04},\n",
       "   'france': {'tl_y': 51.07, 'tl_x': -5.18, 'br_y': 42.17, 'br_x': 8.9},\n",
       "   'ceur': {'tl_y': 51.39, 'tl_x': 11.25, 'br_y': 39.72, 'br_x': 32.55},\n",
       "   'scandinavia': {'tl_y': 72.12, 'tl_x': -0.73, 'br_y': 53.82, 'br_x': 40.67},\n",
       "   'italy': {'tl_y': 47.67, 'tl_x': 5.26, 'br_y': 36.27, 'br_x': 20.64}}},\n",
       " 'northamerica': {'tl_y': 75,\n",
       "  'tl_x': -180,\n",
       "  'br_y': 3,\n",
       "  'br_x': -52,\n",
       "  'subzones': {'na_n': {'tl_y': 72.82,\n",
       "    'tl_x': -177.97,\n",
       "    'br_y': 41.92,\n",
       "    'br_x': -52.48},\n",
       "   'na_c': {'tl_y': 54.66,\n",
       "    'tl_x': -134.68,\n",
       "    'br_y': 22.16,\n",
       "    'br_x': -56.91,\n",
       "    'subzones': {'na_cny': {'tl_y': 45.06,\n",
       "      'tl_x': -83.69,\n",
       "      'br_y': 35.96,\n",
       "      'br_x': -64.29},\n",
       "     'na_cla': {'tl_y': 37.91,\n",
       "      'tl_x': -126.12,\n",
       "      'br_y': 30.21,\n",
       "      'br_x': -110.02},\n",
       "     'na_cat': {'tl_y': 35.86, 'tl_x': -92.61, 'br_y': 22.56, 'br_x': -71.19},\n",
       "     'na_cse': {'tl_y': 49.12,\n",
       "      'tl_x': -126.15,\n",
       "      'br_y': 42.97,\n",
       "      'br_x': -111.92},\n",
       "     'na_nw': {'tl_y': 54.12, 'tl_x': -134.13, 'br_y': 38.32, 'br_x': -96.75},\n",
       "     'na_ne': {'tl_y': 53.72, 'tl_x': -98.76, 'br_y': 38.22, 'br_x': -57.36},\n",
       "     'na_sw': {'tl_y': 38.92, 'tl_x': -133.98, 'br_y': 22.62, 'br_x': -96.75},\n",
       "     'na_se': {'tl_y': 38.52, 'tl_x': -98.62, 'br_y': 22.52, 'br_x': -57.36},\n",
       "     'na_cc': {'tl_y': 45.92,\n",
       "      'tl_x': -116.88,\n",
       "      'br_y': 27.62,\n",
       "      'br_x': -75.91}}},\n",
       "   'na_s': {'tl_y': 41.92, 'tl_x': -177.83, 'br_y': 3.82, 'br_x': -52.48}}},\n",
       " 'southamerica': {'tl_y': 16, 'tl_x': -96, 'br_y': -57, 'br_x': -31},\n",
       " 'oceania': {'tl_y': 19.62, 'tl_x': 88.4, 'br_y': -55.08, 'br_x': 180},\n",
       " 'asia': {'tl_y': 79.98,\n",
       "  'tl_x': 40.91,\n",
       "  'br_y': 12.48,\n",
       "  'br_x': 179.77,\n",
       "  'subzones': {'japan': {'tl_y': 60.38,\n",
       "    'tl_x': 113.5,\n",
       "    'br_y': 22.58,\n",
       "    'br_x': 176.47}}},\n",
       " 'africa': {'tl_y': 39, 'tl_x': -29, 'br_y': -39, 'br_x': 55},\n",
       " 'atlantic': {'tl_y': 52.62, 'tl_x': -50.9, 'br_y': 15.62, 'br_x': -4.75},\n",
       " 'maldives': {'tl_y': 10.72, 'tl_x': 63.1, 'br_y': -6.08, 'br_x': 86.53},\n",
       " 'northatlantic': {'tl_y': 82.62, 'tl_x': -84.53, 'br_y': 59.02, 'br_x': 4.45}}"
      ]
     },
     "execution_count": 53,
     "metadata": {},
     "output_type": "execute_result"
    }
   ],
   "source": [
    "zones = fr_api.get_zones()\n",
    "zones"
   ]
  },
  {
   "cell_type": "code",
   "execution_count": 54,
   "metadata": {},
   "outputs": [
    {
     "ename": "TypeError",
     "evalue": "Can not infer schema for type: <class 'str'>",
     "output_type": "error",
     "traceback": [
      "\u001b[0;31m---------------------------------------------------------------------------\u001b[0m",
      "\u001b[0;31mTypeError\u001b[0m                                 Traceback (most recent call last)",
      "\u001b[1;32m/Users/kevin/tmp/real.ipynb Cell 9'\u001b[0m in \u001b[0;36m<cell line: 1>\u001b[0;34m()\u001b[0m\n\u001b[0;32m----> <a href='vscode-notebook-cell:/Users/kevin/tmp/real.ipynb#ch0000013?line=0'>1</a>\u001b[0m spark\u001b[39m.\u001b[39;49mcreateDataFrame(zones)\n",
      "File \u001b[0;32m~/Library/Python/3.8/lib/python/site-packages/pyspark/sql/session.py:894\u001b[0m, in \u001b[0;36mSparkSession.createDataFrame\u001b[0;34m(self, data, schema, samplingRatio, verifySchema)\u001b[0m\n\u001b[1;32m    889\u001b[0m \u001b[39mif\u001b[39;00m has_pandas \u001b[39mand\u001b[39;00m \u001b[39misinstance\u001b[39m(data, pandas\u001b[39m.\u001b[39mDataFrame):\n\u001b[1;32m    890\u001b[0m     \u001b[39m# Create a DataFrame from pandas DataFrame.\u001b[39;00m\n\u001b[1;32m    891\u001b[0m     \u001b[39mreturn\u001b[39;00m \u001b[39msuper\u001b[39m(SparkSession, \u001b[39mself\u001b[39m)\u001b[39m.\u001b[39mcreateDataFrame(  \u001b[39m# type: ignore[call-overload]\u001b[39;00m\n\u001b[1;32m    892\u001b[0m         data, schema, samplingRatio, verifySchema\n\u001b[1;32m    893\u001b[0m     )\n\u001b[0;32m--> 894\u001b[0m \u001b[39mreturn\u001b[39;00m \u001b[39mself\u001b[39;49m\u001b[39m.\u001b[39;49m_create_dataframe(\n\u001b[1;32m    895\u001b[0m     data, schema, samplingRatio, verifySchema  \u001b[39m# type: ignore[arg-type]\u001b[39;49;00m\n\u001b[1;32m    896\u001b[0m )\n",
      "File \u001b[0;32m~/Library/Python/3.8/lib/python/site-packages/pyspark/sql/session.py:936\u001b[0m, in \u001b[0;36mSparkSession._create_dataframe\u001b[0;34m(self, data, schema, samplingRatio, verifySchema)\u001b[0m\n\u001b[1;32m    934\u001b[0m     rdd, struct \u001b[39m=\u001b[39m \u001b[39mself\u001b[39m\u001b[39m.\u001b[39m_createFromRDD(data\u001b[39m.\u001b[39mmap(prepare), schema, samplingRatio)\n\u001b[1;32m    935\u001b[0m \u001b[39melse\u001b[39;00m:\n\u001b[0;32m--> 936\u001b[0m     rdd, struct \u001b[39m=\u001b[39m \u001b[39mself\u001b[39;49m\u001b[39m.\u001b[39;49m_createFromLocal(\u001b[39mmap\u001b[39;49m(prepare, data), schema)\n\u001b[1;32m    937\u001b[0m \u001b[39massert\u001b[39;00m \u001b[39mself\u001b[39m\u001b[39m.\u001b[39m_jvm \u001b[39mis\u001b[39;00m \u001b[39mnot\u001b[39;00m \u001b[39mNone\u001b[39;00m\n\u001b[1;32m    938\u001b[0m jrdd \u001b[39m=\u001b[39m \u001b[39mself\u001b[39m\u001b[39m.\u001b[39m_jvm\u001b[39m.\u001b[39mSerDeUtil\u001b[39m.\u001b[39mtoJavaArray(rdd\u001b[39m.\u001b[39m_to_java_object_rdd())\n",
      "File \u001b[0;32m~/Library/Python/3.8/lib/python/site-packages/pyspark/sql/session.py:631\u001b[0m, in \u001b[0;36mSparkSession._createFromLocal\u001b[0;34m(self, data, schema)\u001b[0m\n\u001b[1;32m    628\u001b[0m     data \u001b[39m=\u001b[39m \u001b[39mlist\u001b[39m(data)\n\u001b[1;32m    630\u001b[0m \u001b[39mif\u001b[39;00m schema \u001b[39mis\u001b[39;00m \u001b[39mNone\u001b[39;00m \u001b[39mor\u001b[39;00m \u001b[39misinstance\u001b[39m(schema, (\u001b[39mlist\u001b[39m, \u001b[39mtuple\u001b[39m)):\n\u001b[0;32m--> 631\u001b[0m     struct \u001b[39m=\u001b[39m \u001b[39mself\u001b[39;49m\u001b[39m.\u001b[39;49m_inferSchemaFromList(data, names\u001b[39m=\u001b[39;49mschema)\n\u001b[1;32m    632\u001b[0m     converter \u001b[39m=\u001b[39m _create_converter(struct)\n\u001b[1;32m    633\u001b[0m     tupled_data: Iterable[Tuple] \u001b[39m=\u001b[39m \u001b[39mmap\u001b[39m(converter, data)\n",
      "File \u001b[0;32m~/Library/Python/3.8/lib/python/site-packages/pyspark/sql/session.py:517\u001b[0m, in \u001b[0;36mSparkSession._inferSchemaFromList\u001b[0;34m(self, data, names)\u001b[0m\n\u001b[1;32m    515\u001b[0m infer_dict_as_struct \u001b[39m=\u001b[39m \u001b[39mself\u001b[39m\u001b[39m.\u001b[39m_jconf\u001b[39m.\u001b[39minferDictAsStruct()\n\u001b[1;32m    516\u001b[0m prefer_timestamp_ntz \u001b[39m=\u001b[39m is_timestamp_ntz_preferred()\n\u001b[0;32m--> 517\u001b[0m schema \u001b[39m=\u001b[39m reduce(\n\u001b[1;32m    518\u001b[0m     _merge_type,\n\u001b[1;32m    519\u001b[0m     (_infer_schema(row, names, infer_dict_as_struct, prefer_timestamp_ntz) \u001b[39mfor\u001b[39;49;00m row \u001b[39min\u001b[39;49;00m data),\n\u001b[1;32m    520\u001b[0m )\n\u001b[1;32m    521\u001b[0m \u001b[39mif\u001b[39;00m _has_nulltype(schema):\n\u001b[1;32m    522\u001b[0m     \u001b[39mraise\u001b[39;00m \u001b[39mValueError\u001b[39;00m(\u001b[39m\"\u001b[39m\u001b[39mSome of types cannot be determined after inferring\u001b[39m\u001b[39m\"\u001b[39m)\n",
      "File \u001b[0;32m~/Library/Python/3.8/lib/python/site-packages/pyspark/sql/session.py:519\u001b[0m, in \u001b[0;36m<genexpr>\u001b[0;34m(.0)\u001b[0m\n\u001b[1;32m    515\u001b[0m infer_dict_as_struct \u001b[39m=\u001b[39m \u001b[39mself\u001b[39m\u001b[39m.\u001b[39m_jconf\u001b[39m.\u001b[39minferDictAsStruct()\n\u001b[1;32m    516\u001b[0m prefer_timestamp_ntz \u001b[39m=\u001b[39m is_timestamp_ntz_preferred()\n\u001b[1;32m    517\u001b[0m schema \u001b[39m=\u001b[39m reduce(\n\u001b[1;32m    518\u001b[0m     _merge_type,\n\u001b[0;32m--> 519\u001b[0m     (_infer_schema(row, names, infer_dict_as_struct, prefer_timestamp_ntz) \u001b[39mfor\u001b[39;00m row \u001b[39min\u001b[39;00m data),\n\u001b[1;32m    520\u001b[0m )\n\u001b[1;32m    521\u001b[0m \u001b[39mif\u001b[39;00m _has_nulltype(schema):\n\u001b[1;32m    522\u001b[0m     \u001b[39mraise\u001b[39;00m \u001b[39mValueError\u001b[39;00m(\u001b[39m\"\u001b[39m\u001b[39mSome of types cannot be determined after inferring\u001b[39m\u001b[39m\"\u001b[39m)\n",
      "File \u001b[0;32m~/Library/Python/3.8/lib/python/site-packages/pyspark/sql/types.py:1302\u001b[0m, in \u001b[0;36m_infer_schema\u001b[0;34m(row, names, infer_dict_as_struct, prefer_timestamp_ntz)\u001b[0m\n\u001b[1;32m   1299\u001b[0m     items \u001b[39m=\u001b[39m \u001b[39msorted\u001b[39m(row\u001b[39m.\u001b[39m\u001b[39m__dict__\u001b[39m\u001b[39m.\u001b[39mitems())\n\u001b[1;32m   1301\u001b[0m \u001b[39melse\u001b[39;00m:\n\u001b[0;32m-> 1302\u001b[0m     \u001b[39mraise\u001b[39;00m \u001b[39mTypeError\u001b[39;00m(\u001b[39m\"\u001b[39m\u001b[39mCan not infer schema for type: \u001b[39m\u001b[39m%s\u001b[39;00m\u001b[39m\"\u001b[39m \u001b[39m%\u001b[39m \u001b[39mtype\u001b[39m(row))\n\u001b[1;32m   1304\u001b[0m fields \u001b[39m=\u001b[39m []\n\u001b[1;32m   1305\u001b[0m \u001b[39mfor\u001b[39;00m k, v \u001b[39min\u001b[39;00m items:\n",
      "\u001b[0;31mTypeError\u001b[0m: Can not infer schema for type: <class 'str'>"
     ]
    }
   ],
   "source": [
    "spark.createDataFrame(zones)"
   ]
  },
  {
   "cell_type": "code",
   "execution_count": 101,
   "metadata": {},
   "outputs": [
    {
     "name": "stdout",
     "output_type": "stream",
     "text": [
      "+-------------+------------+------------+--------+--------+------------------------+------------+-------+----------+--------+--------+---------+------+---------+-------------------+------------+------+----------+--------------+\n",
      "|aircraft_code|airline_iata|airline_icao|altitude|callsign|destination_airport_iata|ground_speed|heading|icao_24bit|      id|latitude|longitude|number|on_ground|origin_airport_iata|registration|squawk|      time|vertical_speed|\n",
      "+-------------+------------+------------+--------+--------+------------------------+------------+-------+----------+--------+--------+---------+------+---------+-------------------+------------+------+----------+--------------+\n",
      "|         BALL|         N/A|         N/A|   54800| HBAL604|                     N/A|           9|    180|    A2680B|2d81d336| 27.3628|  -84.028|   N/A|        0|                N/A|      N254TH|   N/A|1664119986|             0|\n",
      "|         GLID|         N/A|         N/A|     764| BPOLTWR|                     N/A|           1|    322|    D00804|2d89196d| 51.3605|    9.502|   N/A|        0|                N/A|     BPOLTWR|   N/A|1664119978|             0|\n",
      "|         GLID|         N/A|         N/A|    2290| WINDRAD|                     N/A|           1|    211|    D017B3|2d8919ab| 51.2545|     9.66|   N/A|        0|                N/A|     WINDRAD|   N/A|1664119932|             0|\n",
      "+-------------+------------+------------+--------+--------+------------------------+------------+-------+----------+--------+--------+---------+------+---------+-------------------+------------+------+----------+--------------+\n",
      "only showing top 3 rows\n",
      "\n"
     ]
    }
   ],
   "source": [
    "flights_df.show(3)"
   ]
  },
  {
   "cell_type": "code",
   "execution_count": 105,
   "metadata": {},
   "outputs": [
    {
     "name": "stdout",
     "output_type": "stream",
     "text": [
      "+--------------------+----+----+---------+---------+-------+----+\n",
      "|                name|iata|icao|      lat|      lon|country| alt|\n",
      "+--------------------+----+----+---------+---------+-------+----+\n",
      "|\\tMasai Mara Keek...| KEU|HKKE|-1.586377|35.257462|  Kenya|5532|\n",
      "|    A Coruna Airport| LCG|LECO|43.302059| -8.37725|  Spain| 326|\n",
      "|Aachen Merzbruck ...| AAH|EDKA|50.823051| 6.186111|Germany| 623|\n",
      "+--------------------+----+----+---------+---------+-------+----+\n",
      "only showing top 3 rows\n",
      "\n"
     ]
    }
   ],
   "source": [
    "airports_df.show(3)"
   ]
  },
  {
   "cell_type": "code",
   "execution_count": 122,
   "metadata": {},
   "outputs": [
    {
     "name": "stdout",
     "output_type": "stream",
     "text": [
      "+---------------+----+----+\n",
      "|           Name|Code|ICAO|\n",
      "+---------------+----+----+\n",
      "|         21 Air|  2I| CSB|\n",
      "|25only Aviation|  4Q| ONY|\n",
      "+---------------+----+----+\n",
      "only showing top 2 rows\n",
      "\n"
     ]
    }
   ],
   "source": [
    "airlines_df.show(2)"
   ]
  },
  {
   "cell_type": "code",
   "execution_count": 123,
   "metadata": {},
   "outputs": [
    {
     "name": "stdout",
     "output_type": "stream",
     "text": [
      "+-------------+------------+------------+--------+--------+------------------------+------------+-------+----------+--------+--------+---------+------+---------+-------------------+------------+------+----------+--------------+\n",
      "|aircraft_code|airline_iata|airline_icao|altitude|callsign|destination_airport_iata|ground_speed|heading|icao_24bit|      id|latitude|longitude|number|on_ground|origin_airport_iata|registration|squawk|      time|vertical_speed|\n",
      "+-------------+------------+------------+--------+--------+------------------------+------------+-------+----------+--------+--------+---------+------+---------+-------------------+------------+------+----------+--------------+\n",
      "|         BALL|         N/A|         N/A|   54800| HBAL604|                     N/A|           9|    180|    A2680B|2d81d336| 27.3628|  -84.028|   N/A|        0|                N/A|      N254TH|   N/A|1664119986|             0|\n",
      "|         GLID|         N/A|         N/A|     764| BPOLTWR|                     N/A|           1|    322|    D00804|2d89196d| 51.3605|    9.502|   N/A|        0|                N/A|     BPOLTWR|   N/A|1664119978|             0|\n",
      "|         GLID|         N/A|         N/A|    2290| WINDRAD|                     N/A|           1|    211|    D017B3|2d8919ab| 51.2545|     9.66|   N/A|        0|                N/A|     WINDRAD|   N/A|1664119932|             0|\n",
      "|          N/A|         N/A|         N/A|    2188| WINDRAD|                     N/A|           1|    271|    D0183D|2d8d0da2| 51.2371|   9.7025|   N/A|        0|                N/A|         N/A|   N/A|1664119954|             0|\n",
      "|          N/A|         N/A|         N/A|       0|     N/A|                     N/A|           0|    349|    4A7C1A|2d8f3e01|  44.572|  26.1091|   N/A|        1|                N/A|         N/A|   N/A|1664119987|             0|\n",
      "|          N/A|         N/A|         N/A|       0|     N/A|                     N/A|          40|     87|    4A7C14|2d92772c|  44.579|  26.0989|   N/A|        1|                N/A|         N/A|   N/A|1664119989|             0|\n",
      "|         GLID|         N/A|         N/A|     370| FOXTRAN|                     N/A|           1|    180|  104AFFFF|2d92be0a| 52.1006|  21.0021|   N/A|        0|                N/A|     FOXTRAN|   N/A|1664119977|             0|\n",
      "|         GLID|         N/A|         N/A|    1932| WINDRAD|                     N/A|           1|     26|    D017AE|2d95d833| 51.4372|  10.2092|   N/A|        0|                N/A|     WINDRAD|   N/A|1664119985|             0|\n",
      "|         GRND|         N/A|         N/A|       0|  ESC724|                     N/A|           0|    271|    C1E4A9|2d967d10| 45.4566| -73.7271|   N/A|        1|                N/A|         N/A|   N/A|1664119968|             0|\n",
      "|         GLID|         N/A|         N/A|    1322| WINDRAD|                     N/A|           1|     89|    D0111B|2d96d887| 51.8281|  10.1177|   N/A|        0|                N/A|     WINDRAD|   N/A|1664119952|            64|\n",
      "+-------------+------------+------------+--------+--------+------------------------+------------+-------+----------+--------+--------+---------+------+---------+-------------------+------------+------+----------+--------------+\n",
      "only showing top 10 rows\n",
      "\n"
     ]
    }
   ],
   "source": [
    "flights_df.show(10)"
   ]
  },
  {
   "cell_type": "code",
   "execution_count": 119,
   "metadata": {},
   "outputs": [
    {
     "name": "stdout",
     "output_type": "stream",
     "text": [
      "+--------------------+----+----+\n",
      "|                Name|Code|ICAO|\n",
      "+--------------------+----+----+\n",
      "|              21 Air|  2I| CSB|\n",
      "|     25only Aviation|  4Q| ONY|\n",
      "|     2Excel Aviation|    | BRO|\n",
      "|         40-Mile Air|  Q5| MLA|\n",
      "|    748 Air Services|  FE| IHO|\n",
      "|               9 Air|  AQ| JYH|\n",
      "|          Abakan Air|  S5| NKP|\n",
      "|            ABS Jets|    | ABP|\n",
      "|  Abu Dhabi Aviation|    | BAR|\n",
      "|             ABX Air|  GB| ABX|\n",
      "|       Acass Ireland|    | SON|\n",
      "|        Advanced Air|  AN| WSN|\n",
      "|     Aegean Airlines|  A3| AEE|\n",
      "|          Aer Lingus|  EI| EIN|\n",
      "|       Aer Lingus UK|  EG| EUK|\n",
      "|           AerCaribe|  JK| ACL|\n",
      "|                Aero|  TD| BLK|\n",
      "|                Aero|  N2| NIG|\n",
      "|Aero Asahi Corpor...|    | AKF|\n",
      "|        Aero Charter|    | GLT|\n",
      "+--------------------+----+----+\n",
      "only showing top 20 rows\n",
      "\n"
     ]
    }
   ],
   "source": [
    "flights.show()"
   ]
  },
  {
   "cell_type": "code",
   "execution_count": 129,
   "metadata": {},
   "outputs": [
    {
     "data": {
      "text/plain": [
       "dict"
      ]
     },
     "execution_count": 129,
     "metadata": {},
     "output_type": "execute_result"
    }
   ],
   "source": [
    "type(zones['europe']['subzones'])"
   ]
  },
  {
   "cell_type": "code",
   "execution_count": 144,
   "metadata": {},
   "outputs": [
    {
     "data": {
      "text/plain": [
       "dict_keys(['poland', 'germany', 'uk', 'spain', 'france', 'ceur', 'scandinavia', 'italy'])"
      ]
     },
     "execution_count": 144,
     "metadata": {},
     "output_type": "execute_result"
    }
   ],
   "source": [
    "zones['europe']['subzones'].keys()"
   ]
  },
  {
   "cell_type": "code",
   "execution_count": 153,
   "metadata": {},
   "outputs": [
    {
     "data": {
      "text/plain": [
       "DataFrame[aircraft_code: string, airline_iata: string, airline_icao: string, altitude: bigint, callsign: string, destination_airport_iata: string, ground_speed: bigint, heading: bigint, icao_24bit: string, id: string, latitude: double, longitude: double, number: string, on_ground: bigint, origin_airport_iata: string, registration: string, squawk: string, time: bigint, vertical_speed: bigint]"
      ]
     },
     "execution_count": 153,
     "metadata": {},
     "output_type": "execute_result"
    }
   ],
   "source": [
    "flights_df"
   ]
  },
  {
   "cell_type": "code",
   "execution_count": 152,
   "metadata": {},
   "outputs": [
    {
     "data": {
      "text/plain": [
       "DataFrame[name: string, iata: string, icao: string, lat: string, lon: string, country: string, alt: string]"
      ]
     },
     "execution_count": 152,
     "metadata": {},
     "output_type": "execute_result"
    }
   ],
   "source": [
    "airports_df"
   ]
  },
  {
   "cell_type": "code",
   "execution_count": 170,
   "metadata": {},
   "outputs": [
    {
     "name": "stderr",
     "output_type": "stream",
     "text": [
      "/Users/kevin/Library/Python/3.8/lib/python/site-packages/pyspark/sql/dataframe.py:229: FutureWarning: Deprecated in 2.0, use createOrReplaceTempView instead.\n",
      "  warnings.warn(\"Deprecated in 2.0, use createOrReplaceTempView instead.\", FutureWarning)\n"
     ]
    }
   ],
   "source": [
    "flights_df.registerTempTable('flights')\n",
    "airports_df.registerTempTable('airports')"
   ]
  },
  {
   "cell_type": "code",
   "execution_count": 174,
   "metadata": {},
   "outputs": [
    {
     "name": "stdout",
     "output_type": "stream",
     "text": [
      "+---------------+----+----+\n",
      "|           Name|Code|ICAO|\n",
      "+---------------+----+----+\n",
      "|         21 Air|  2I| CSB|\n",
      "|25only Aviation|  4Q| ONY|\n",
      "+---------------+----+----+\n",
      "only showing top 2 rows\n",
      "\n"
     ]
    }
   ],
   "source": [
    "airlines_df.show(2)"
   ]
  },
  {
   "cell_type": "code",
   "execution_count": null,
   "metadata": {},
   "outputs": [],
   "source": []
  },
  {
   "cell_type": "code",
   "execution_count": 180,
   "metadata": {},
   "outputs": [],
   "source": [
    "dff =spark.sql('select airline_icao, origin_airport_iata, country as origin_country, destination_airport_iata from flights left join airports on flights.origin_airport_iata = airports.iata')"
   ]
  },
  {
   "cell_type": "code",
   "execution_count": 181,
   "metadata": {},
   "outputs": [
    {
     "name": "stdout",
     "output_type": "stream",
     "text": [
      "+------------+------------------------+-------------------+--------------+\n",
      "|airline_icao|destination_airport_iata|origin_airport_iata|origin_country|\n",
      "+------------+------------------------+-------------------+--------------+\n",
      "|         FDX|                     CAN|                ANC| United States|\n",
      "|         FFT|                     DEN|                ATL| United States|\n",
      "+------------+------------------------+-------------------+--------------+\n",
      "only showing top 2 rows\n",
      "\n"
     ]
    }
   ],
   "source": [
    "dff.show(2)"
   ]
  },
  {
   "cell_type": "code",
   "execution_count": 186,
   "metadata": {},
   "outputs": [
    {
     "name": "stderr",
     "output_type": "stream",
     "text": [
      "/Users/kevin/Library/Python/3.8/lib/python/site-packages/pyspark/sql/dataframe.py:229: FutureWarning: Deprecated in 2.0, use createOrReplaceTempView instead.\n",
      "  warnings.warn(\"Deprecated in 2.0, use createOrReplaceTempView instead.\", FutureWarning)\n"
     ]
    }
   ],
   "source": [
    "dff.registerTempTable('flightss')\n",
    "dfff = spark.sql('select airline_icao, origin_airport_iata, origin_country, destination_airport_iata, country as destination_country from flightss left join airports on flightss.destination_airport_iata = airports.iata')"
   ]
  },
  {
   "cell_type": "code",
   "execution_count": 187,
   "metadata": {},
   "outputs": [
    {
     "name": "stdout",
     "output_type": "stream",
     "text": [
      "+------------+-------------------+--------------+------------------------+-------------------+\n",
      "|airline_icao|origin_airport_iata|origin_country|destination_airport_iata|destination_country|\n",
      "+------------+-------------------+--------------+------------------------+-------------------+\n",
      "|         N/A|                LAS| United States|                     N/A|               null|\n",
      "|         FFT|                DEN| United States|                     HOU|      United States|\n",
      "|         N/A|                N/A|          null|                     N/A|               null|\n",
      "|         N/A|                N/A|          null|                     N/A|               null|\n",
      "|         N/A|                N/A|          null|                     N/A|               null|\n",
      "|         N/A|                N/A|          null|                     N/A|               null|\n",
      "|         N/A|                N/A|          null|                     N/A|               null|\n",
      "|         N/A|                N/A|          null|                     N/A|               null|\n",
      "|         N/A|                N/A|          null|                     N/A|               null|\n",
      "|         N/A|                N/A|          null|                     N/A|               null|\n",
      "|         N/A|                N/A|          null|                     N/A|               null|\n",
      "|         N/A|                N/A|          null|                     N/A|               null|\n",
      "|         N/A|                N/A|          null|                     N/A|               null|\n",
      "|         N/A|                N/A|          null|                     N/A|               null|\n",
      "|         N/A|                N/A|          null|                     N/A|               null|\n",
      "|         N/A|                N/A|          null|                     N/A|               null|\n",
      "|         N/A|                N/A|          null|                     N/A|               null|\n",
      "|         FDX|                MEM| United States|                     N/A|               null|\n",
      "|         DAL|                ATL| United States|                     JNB|       South Africa|\n",
      "|         FDX|                IND| United States|                     OAK|      United States|\n",
      "+------------+-------------------+--------------+------------------------+-------------------+\n",
      "only showing top 20 rows\n",
      "\n"
     ]
    }
   ],
   "source": [
    "dfff.show(20)"
   ]
  },
  {
   "cell_type": "code",
   "execution_count": 164,
   "metadata": {},
   "outputs": [
    {
     "data": {
      "text/plain": [
       "1500"
      ]
     },
     "execution_count": 164,
     "metadata": {},
     "output_type": "execute_result"
    }
   ],
   "source": [
    "flights_df.count()"
   ]
  },
  {
   "cell_type": "code",
   "execution_count": 169,
   "metadata": {},
   "outputs": [
    {
     "name": "stdout",
     "output_type": "stream",
     "text": [
      "+-------------+------------+------------+--------+--------+------------------------+------------+-------+----------+--------+--------+---------+------+---------+-------------------+------------+------+----------+--------------+\n",
      "|aircraft_code|airline_iata|airline_icao|altitude|callsign|destination_airport_iata|ground_speed|heading|icao_24bit|      id|latitude|longitude|number|on_ground|origin_airport_iata|registration|squawk|      time|vertical_speed|\n",
      "+-------------+------------+------------+--------+--------+------------------------+------------+-------+----------+--------+--------+---------+------+---------+-------------------+------------+------+----------+--------------+\n",
      "|         BALL|         N/A|         N/A|   54800| HBAL604|                     N/A|           9|    180|    A2680B|2d81d336| 27.3628|  -84.028|   N/A|        0|                N/A|      N254TH|   N/A|1664119986|             0|\n",
      "|         GLID|         N/A|         N/A|     764| BPOLTWR|                     N/A|           1|    322|    D00804|2d89196d| 51.3605|    9.502|   N/A|        0|                N/A|     BPOLTWR|   N/A|1664119978|             0|\n",
      "|         GLID|         N/A|         N/A|    2290| WINDRAD|                     N/A|           1|    211|    D017B3|2d8919ab| 51.2545|     9.66|   N/A|        0|                N/A|     WINDRAD|   N/A|1664119932|             0|\n",
      "|          N/A|         N/A|         N/A|    2188| WINDRAD|                     N/A|           1|    271|    D0183D|2d8d0da2| 51.2371|   9.7025|   N/A|        0|                N/A|         N/A|   N/A|1664119954|             0|\n",
      "|          N/A|         N/A|         N/A|       0|     N/A|                     N/A|           0|    349|    4A7C1A|2d8f3e01|  44.572|  26.1091|   N/A|        1|                N/A|         N/A|   N/A|1664119987|             0|\n",
      "+-------------+------------+------------+--------+--------+------------------------+------------+-------+----------+--------+--------+---------+------+---------+-------------------+------------+------+----------+--------------+\n",
      "only showing top 5 rows\n",
      "\n"
     ]
    }
   ],
   "source": [
    "flights_df.show(5)"
   ]
  },
  {
   "cell_type": "code",
   "execution_count": 167,
   "metadata": {},
   "outputs": [
    {
     "name": "stdout",
     "output_type": "stream",
     "text": [
      "+-------------+------------+------------+--------+--------+------------------------+------------+-------+----------+--------+--------+---------+------+---------+-------------------+------------+------+----------+--------------+--------------------+----+----+---------+----------+-------------+----+--------------+\n",
      "|aircraft_code|airline_iata|airline_icao|altitude|callsign|destination_airport_iata|ground_speed|heading|icao_24bit|      id|latitude|longitude|number|on_ground|origin_airport_iata|registration|squawk|      time|vertical_speed|                name|iata|icao|      lat|       lon|      country| alt|origin_country|\n",
      "+-------------+------------+------------+--------+--------+------------------------+------------+-------+----------+--------+--------+---------+------+---------+-------------------+------------+------+----------+--------------+--------------------+----+----+---------+----------+-------------+----+--------------+\n",
      "|         A20N|          F9|         FFT|   36000|  FFT421|                     DEN|         410|    286|    A466FC|2d99b2dd| 37.8226| -99.8357| F9421|        0|                ATL|      N383FR|   N/A|1664119988|             0|Atlanta Hartsfiel...| ATL|KATL|33.636719|-84.428001|United States|1026| United States|\n",
      "+-------------+------------+------------+--------+--------+------------------------+------------+-------+----------+--------+--------+---------+------+---------+-------------------+------------+------+----------+--------------+--------------------+----+----+---------+----------+-------------+----+--------------+\n",
      "only showing top 1 row\n",
      "\n"
     ]
    }
   ],
   "source": [
    "dff.show(1)"
   ]
  },
  {
   "cell_type": "code",
   "execution_count": 194,
   "metadata": {},
   "outputs": [
    {
     "data": {
      "text/plain": [
       "{'tl_y': 79.98,\n",
       " 'tl_x': 40.91,\n",
       " 'br_y': 12.48,\n",
       " 'br_x': 179.77,\n",
       " 'subzones': {'japan': {'tl_y': 60.38,\n",
       "   'tl_x': 113.5,\n",
       "   'br_y': 22.58,\n",
       "   'br_x': 176.47}}}"
      ]
     },
     "execution_count": 194,
     "metadata": {},
     "output_type": "execute_result"
    }
   ],
   "source": [
    "zones['asia']"
   ]
  },
  {
   "cell_type": "code",
   "execution_count": 202,
   "metadata": {},
   "outputs": [
    {
     "name": "stdout",
     "output_type": "stream",
     "text": [
      "+-------------+------------+------------+--------+--------+------------------------+------------+-------+----------+--------+--------+---------+------+---------+-------------------+------------+------+----------+--------------+--------------------+----+----+----------+----------+--------------------+----+--------------------+--------------------+----+----+----------+-----------+--------------------+----+--------------------+\n",
      "|aircraft_code|airline_iata|airline_icao|altitude|callsign|destination_airport_iata|ground_speed|heading|icao_24bit|      id|latitude|longitude|number|on_ground|origin_airport_iata|registration|squawk|      time|vertical_speed|                name|iata|icao|       lat|       lon|             country| alt|      origin_country|                name|iata|icao|       lat|        lon|             country| alt| destination_country|\n",
      "+-------------+------------+------------+--------+--------+------------------------+------------+-------+----------+--------+--------+---------+------+---------+-------------------+------------+------+----------+--------------+--------------------+----+----+----------+----------+--------------------+----+--------------------+--------------------+----+----+----------+-----------+--------------------+----+--------------------+\n",
      "|         B789|          AC|         ACA|    2725|   ACA50|                     DEL|         173|    284|    C0293E|2d98ed71| 28.5278|  77.2553|  AC50|        0|                YUL|      C-FPQB|   N/A|1664119989|             0|Montreal Pierre E...| YUL|CYUL| 45.470551|-73.740799|              Canada| 118|              Canada|Delhi Indira Gand...| DEL|VIDP|   28.5665|  77.103081|               India| 777|               India|\n",
      "|         B789|          EY|         ETD|   37996|  ETD141|                     YYZ|         516|    254|    8964BF|2d9932ee| 53.1211| -49.3288| EY141|        0|                AUH|      A6-BLO|   N/A|1664119986|             0|Abu Dhabi Interna...| AUH|OMAA|  24.43297| 54.651131|United Arab Emirates|  88|United Arab Emirates|Toronto Pearson I...| YYZ|CYYZ| 43.680634| -79.627007|              Canada| 569|              Canada|\n",
      "|         A35K|          EY|         ETD|   38036|  ETD93C|                     ORD|         504|    270|    89659C|2d994372| 53.9797| -40.4398| EY151|        0|                AUH|      A6-XWF|   N/A|1664119986|             0|Abu Dhabi Interna...| AUH|OMAA|  24.43297| 54.651131|United Arab Emirates|  88|United Arab Emirates|Chicago O'Hare In...| ORD|KORD| 41.978142|   -87.9058|       United States| 672|       United States|\n",
      "|         B77W|          EY|         ETD|   35000|  ETD462|                     MEL|         568|    109|    896327|2d994ce1|-25.4853| 113.0472| EY462|        0|                AUH|      A6-ETJ|   N/A|1664119988|             0|Abu Dhabi Interna...| AUH|OMAA|  24.43297| 54.651131|United Arab Emirates|  88|United Arab Emirates|   Melbourne Airport| MEL|YMML|-37.673302| 144.843307|           Australia| 434|           Australia|\n",
      "|         A35K|          EY|         ETD|   38000|  ETD11B|                     JFK|         524|    280|    89659B|2d994eff| 49.4769| -33.0961| EY101|        0|                AUH|      A6-XWE|   N/A|1664119982|             0|Abu Dhabi Interna...| AUH|OMAA|  24.43297| 54.651131|United Arab Emirates|  88|United Arab Emirates|New York John F. ...| JFK|KJFK| 40.639751|   -73.7789|       United States|  14|       United States|\n",
      "|         B77W|          SV|         SVA|   34000|  SVA035|                     IAD|         461|    250|    710063|2d99474a|  46.977| -50.0954|  SV35|        0|                JED|     HZ-AK23|   N/A|1664119987|             0|Jeddah King Abdul...| JED|OEJN|  21.67956| 39.156528|        Saudi Arabia|  48|        Saudi Arabia|Washington Dulles...| IAD|KIAD| 38.947441|   -77.4599|       United States| 312|       United States|\n",
      "|         B77W|          SV|         SVA|    6475|  SVA826|                     CGK|         237|    151|    710060|2d994a7b| -5.7438| 106.7733| SV826|        0|                JED|     HZ-AK21|   N/A|1664119986|          -576|Jeddah King Abdul...| JED|OEJN|  21.67956| 39.156528|        Saudi Arabia|  48|        Saudi Arabia|Jakarta Soekarno ...| CGK|WIII|  -6.12556|   106.6558|           Indonesia|  34|           Indonesia|\n",
      "|         B744|          LH|         DLH|   35000|  DLH754|                     BLR|         540|    115|    3C4ADA|2d993b41| 37.8563|  48.2373| LH754|        0|                FRA|      D-ABVZ|   N/A|1664119987|             0|   Frankfurt Airport| FRA|EDDF| 50.037796|  8.555783|             Germany| 364|             Germany|Bengaluru Kempego...| BLR|VOBL| 13.198889|  77.705559|               India|3002|               India|\n",
      "|         B77W|          TK|         THY|    6900|    THY3|                     JFK|         270|    312|    4BA94C|2d991cd8| 40.6932| -73.2385|   TK3|        0|                IST|      TC-JJL|   N/A|1664119988|          -960|    Istanbul Airport| IST|LTFM| 41.267052| 28.729757|              Turkey| 325|              Turkey|New York John F. ...| JFK|KJFK| 40.639751|   -73.7789|       United States|  14|       United States|\n",
      "|         B789|         N/A|         THY|   40000|  THY4HK|                     IAH|         430|    248|    4BB190|2d992d5c| 41.5762| -76.9761|   N/A|        0|                IST|      TC-LLP|   N/A|1664119987|           -64|    Istanbul Airport| IST|LTFM| 41.267052| 28.729757|              Turkey| 325|              Turkey|Houston George Bu...| IAH|KIAH|  29.98443|   -95.3414|       United States|  96|       United States|\n",
      "|         B789|         N/A|         THY|   14925|  THY3EM|                     IAD|         304|    238|    4BB18D|2d992e76| 39.9443| -76.6707|   N/A|        0|                IST|      TC-LLM|   N/A|1664119986|          -384|    Istanbul Airport| IST|LTFM| 41.267052| 28.729757|              Turkey| 325|              Turkey|Washington Dulles...| IAD|KIAD| 38.947441|   -77.4599|       United States| 312|       United States|\n",
      "|         B789|          TK|         THY|   40000|  THY73G|                     SFO|         497|    220|    4BB186|2d993193| 56.5051|-104.3877| TK289|        0|                IST|      TC-LLF|   N/A|1664119983|             0|    Istanbul Airport| IST|LTFM| 41.267052| 28.729757|              Turkey| 325|              Turkey|San Francisco Int...| SFO|KSFO| 37.618969|-122.374001|       United States|  13|       United States|\n",
      "|         B77W|         N/A|         THY|   34000|  THY8MT|                     LAX|         490|    215|    4BA947|2d993240| 57.6001|  -99.242|   N/A|        0|                IST|      TC-JJG|   N/A|1664119986|             0|    Istanbul Airport| IST|LTFM| 41.267052| 28.729757|              Turkey| 325|              Turkey|Los Angeles Inter...| LAX|KLAX|  33.94252|-118.406998|       United States| 125|       United States|\n",
      "|         B77W|          TK|         THY|   34000|  THY800|                     BOG|         467|    232|    4BA94A|2d994b3c| 25.9471| -50.1219| TK800|        0|                IST|      TC-JJJ|   N/A|1664119986|             0|    Istanbul Airport| IST|LTFM| 41.267052| 28.729757|              Turkey| 325|              Turkey|Bogota El Dorado ...| BOG|SKBO|  4.703056| -74.138298|            Colombia|8361|            Colombia|\n",
      "|         B77W|          KU|         KAC|   36000|  KAC117|                     JFK|         471|    236|    70605F|2d993631| 50.6543| -57.2176| KU117|        0|                KWI|      9K-AOM|   N/A|1664119987|           -64|Kuwait Internatio...| KWI|OKBK| 29.226561| 47.968922|              Kuwait| 206|              Kuwait|New York John F. ...| JFK|KJFK| 40.639751|   -73.7789|       United States|  14|       United States|\n",
      "|         B77W|          EK|         UAE|   35000|  UAE262|                     DXB|         493|     71|    89644F|2d9922aa| 20.1198|  34.7263| EK262|        0|                GRU|      A6-EPZ|   N/A|1664119986|             0|Sao Paulo Guarulh...| GRU|SBGR|-23.431999|-46.469501|              Brazil|2459|              Brazil|Dubai Internation...| DXB|OMDB| 25.252769|  55.364441|United Arab Emirates|  62|United Arab Emirates|\n",
      "|         B788|          ET|         ETH|   39000|  ETH507|                     ADD|         486|     38|    04004B|2d9929b2|  4.1422|  34.8808| ET507|        0|                GRU|      ET-AOU|   N/A|1664119982|             0|Sao Paulo Guarulh...| GRU|SBGR|-23.431999|-46.469501|              Brazil|2459|              Brazil|Addis Ababa Bole ...| ADD|HAAB|  8.977889|  38.799309|            Ethiopia|7656|            Ethiopia|\n",
      "|         B77W|          QR|         QTR|   34804|  QTR774|                     DOH|         480|     53|    06A2B8|2d994487|  9.5539|  26.2916| QR774|        0|                GRU|      A7-BET|   N/A|1664119982|             0|Sao Paulo Guarulh...| GRU|SBGR|-23.431999|-46.469501|              Brazil|2459|              Brazil|Doha Hamad Intern...| DOH|OTHH| 25.272524|  51.608604|               Qatar|  13|               Qatar|\n",
      "|         B77W|          LX|         SWR|   38000|  SWR161|                     ZRH|         531|    178|    4B191E|2d98fba7|  53.054|   9.2839| LX161|        0|                NRT|      HB-JNI|   N/A|1664119987|             0|Tokyo Narita Inte...| NRT|RJAA| 35.764721|140.386307|               Japan| 135|               Japan|      Zurich Airport| ZRH|LSZH| 47.464722|   8.549167|         Switzerland|1416|         Switzerland|\n",
      "|         B772|          OS|         AUA|   38000|   AUA52|                     VIE|         438|    278|    4408FB|2d99090a| 42.5939|  30.4613|  OS52|        0|                NRT|      OE-LPF|   N/A|1664119966|             0|Tokyo Narita Inte...| NRT|RJAA| 35.764721|140.386307|               Japan| 135|               Japan|Vienna Internatio...| VIE|LOWW| 48.110271|  16.569719|             Austria| 600|             Austria|\n",
      "+-------------+------------+------------+--------+--------+------------------------+------------+-------+----------+--------+--------+---------+------+---------+-------------------+------------+------+----------+--------------+--------------------+----+----+----------+----------+--------------------+----+--------------------+--------------------+----+----+----------+-----------+--------------------+----+--------------------+\n",
      "only showing top 20 rows\n",
      "\n"
     ]
    }
   ],
   "source": [
    "flights_df.registerTempTable('flights')\n",
    "airports_df.registerTempTable('airports')\n",
    "#flights_origin_country = spark.sql('select airline_icao, origin_airport_iata, country as origin_country, destination_airport_iata from flights left join airports on flights.origin_airport_iata = airports.iata')\n",
    "flights_origin_country = spark.sql('select *, country as origin_country from flights left join airports on flights.origin_airport_iata = airports.iata')\n",
    "flights_origin_country.registerTempTable('flights_origin_country')\n",
    "#flights_origin_dest_country = spark.sql('select airline_icao, origin_airport_iata, origin_country, destination_airport_iata, country as destination_country from flights_origin_country left join airports on flights_origin_country.destination_airport_iata = airports.iata')\n",
    "flights_origin_dest_country = spark.sql('select *, airports.country as destination_country from flights_origin_country left join airports on flights_origin_country.destination_airport_iata = airports.iata')\n",
    "flights_origin_dest_country = flights_origin_dest_country.na.drop(subset=[\"origin_country\", \"destination_country\"])\n",
    "flights_origin_dest_country.show(20)"
   ]
  },
  {
   "cell_type": "code",
   "execution_count": 212,
   "metadata": {},
   "outputs": [
    {
     "data": {
      "text/plain": [
       "DataFrame[aircraft_code: string, airline_iata: string, airline_icao: string, altitude: bigint, callsign: string, destination_airport_iata: string, ground_speed: bigint, heading: bigint, icao_24bit: string, id: string, latitude: double, longitude: double, number: string, on_ground: bigint, origin_airport_iata: string, registration: string, squawk: string, time: bigint, vertical_speed: bigint]"
      ]
     },
     "execution_count": 212,
     "metadata": {},
     "output_type": "execute_result"
    }
   ],
   "source": [
    "flights_df"
   ]
  },
  {
   "cell_type": "code",
   "execution_count": 216,
   "metadata": {},
   "outputs": [
    {
     "name": "stdout",
     "output_type": "stream",
     "text": [
      "+-------------+------------+------------+--------+--------+------------------------+------------+-------+----------+--------+--------+---------+------+---------+-------------------+------------+------+----------+--------------+\n",
      "|aircraft_code|airline_iata|airline_icao|altitude|callsign|destination_airport_iata|ground_speed|heading|icao_24bit|      id|latitude|longitude|number|on_ground|origin_airport_iata|registration|squawk|      time|vertical_speed|\n",
      "+-------------+------------+------------+--------+--------+------------------------+------------+-------+----------+--------+--------+---------+------+---------+-------------------+------------+------+----------+--------------+\n",
      "|         BALL|         N/A|         N/A|   54800| HBAL604|                     N/A|           9|    180|    A2680B|2d81d336| 27.3628|  -84.028|   N/A|        0|                N/A|      N254TH|   N/A|1664119986|             0|\n",
      "|         GLID|         N/A|         N/A|     764| BPOLTWR|                     N/A|           1|    322|    D00804|2d89196d| 51.3605|    9.502|   N/A|        0|                N/A|     BPOLTWR|   N/A|1664119978|             0|\n",
      "|         GLID|         N/A|         N/A|    2290| WINDRAD|                     N/A|           1|    211|    D017B3|2d8919ab| 51.2545|     9.66|   N/A|        0|                N/A|     WINDRAD|   N/A|1664119932|             0|\n",
      "|          N/A|         N/A|         N/A|    2188| WINDRAD|                     N/A|           1|    271|    D0183D|2d8d0da2| 51.2371|   9.7025|   N/A|        0|                N/A|         N/A|   N/A|1664119954|             0|\n",
      "|          N/A|         N/A|         N/A|       0|     N/A|                     N/A|           0|    349|    4A7C1A|2d8f3e01|  44.572|  26.1091|   N/A|        1|                N/A|         N/A|   N/A|1664119987|             0|\n",
      "|          N/A|         N/A|         N/A|       0|     N/A|                     N/A|          40|     87|    4A7C14|2d92772c|  44.579|  26.0989|   N/A|        1|                N/A|         N/A|   N/A|1664119989|             0|\n",
      "|         GLID|         N/A|         N/A|     370| FOXTRAN|                     N/A|           1|    180|  104AFFFF|2d92be0a| 52.1006|  21.0021|   N/A|        0|                N/A|     FOXTRAN|   N/A|1664119977|             0|\n",
      "|         GLID|         N/A|         N/A|    1932| WINDRAD|                     N/A|           1|     26|    D017AE|2d95d833| 51.4372|  10.2092|   N/A|        0|                N/A|     WINDRAD|   N/A|1664119985|             0|\n",
      "|         GRND|         N/A|         N/A|       0|  ESC724|                     N/A|           0|    271|    C1E4A9|2d967d10| 45.4566| -73.7271|   N/A|        1|                N/A|         N/A|   N/A|1664119968|             0|\n",
      "|         GLID|         N/A|         N/A|    1322| WINDRAD|                     N/A|           1|     89|    D0111B|2d96d887| 51.8281|  10.1177|   N/A|        0|                N/A|     WINDRAD|   N/A|1664119952|            64|\n",
      "|         GRND|         N/A|         N/A|    1742| WINDRAD|                     N/A|           1|     89|    D011E6|2d96e0ad|  51.246|    9.524|   N/A|        0|                N/A|         N/A|   N/A|1664119976|             0|\n",
      "|         GLID|         N/A|         N/A|    1630| WINDRAD|                     N/A|           1|    180|    D0108D|2d96e961| 51.5116|   9.7441|   N/A|        0|                N/A|     WINDRAD|   N/A|1664119961|             0|\n",
      "|         B763|          FX|         FDX|       0|  FDX885|                     N/A|           0|    180|    A13767|2d970a4b| 35.0595| -89.9571| FX885|        1|                MEM|      N178FE|   N/A|1664119987|             0|\n",
      "|         AS50|         N/A|         N/A|    3275|  N350FS|                     N/A|         110|     89|    A3E55B|2d97bfac| 36.0657|-114.4138|   N/A|        0|                LAS|      N350FS|   N/A|1664119985|           256|\n",
      "|         GRND|         N/A|         N/A|       0|    T643|                     N/A|           0|    342|    3C3FE7|2d97f981| 52.3626|  13.5071|   N/A|        1|                N/A|         N/A|   N/A|1664119903|             0|\n",
      "|         GLID|         N/A|         N/A|    1784| WINDRAD|                     N/A|           1|    271|    D01845|2d980483| 49.5209|   9.5216|   N/A|        0|                N/A|     WINDRAD|   N/A|1664119970|             0|\n",
      "|         B77L|          FX|         FDX|       0|   FDX97|                     IND|           0|    135|    ABE959|2d982617| 39.7015| -86.2953|  FX97|        1|                CGN|      N867FD|   N/A|1664119987|             0|\n",
      "|         A320|          F9|         FFT|   39000|  FFT710|                     HOU|         473|    136|    A1BDC6|2d983e05| 32.4524| -98.0627| F9710|        0|                DEN|      N211FR|   N/A|1664119986|             0|\n",
      "|         MD11|          FX|         FDX|       0| FDX3702|                     OAK|           0|    129|    A801D3|2d98736a|  37.717|-122.2178|FX3702|        1|                IND|      N615FE|   N/A|1664119985|             0|\n",
      "|         GRND|         N/A|         N/A|       0|      E1|                     N/A|           0|    180|    3C4202|2d9883b9| 49.4943|  11.0818|   N/A|        1|                N/A|          E1|   N/A|1664119988|             0|\n",
      "+-------------+------------+------------+--------+--------+------------------------+------------+-------+----------+--------+--------+---------+------+---------+-------------------+------------+------+----------+--------------+\n",
      "only showing top 20 rows\n",
      "\n"
     ]
    }
   ],
   "source": [
    "flights_df.show(20)"
   ]
  },
  {
   "cell_type": "code",
   "execution_count": 220,
   "metadata": {},
   "outputs": [],
   "source": [
    "nb_flights_destination = flights_df.filter(flights_df.destination_airport_iata != 'N/A').groupBy('destination_airport_iata').count().sort(desc(\"count\"))"
   ]
  },
  {
   "cell_type": "code",
   "execution_count": 223,
   "metadata": {},
   "outputs": [
    {
     "name": "stdout",
     "output_type": "stream",
     "text": [
      "+------------------------+-----+\n",
      "|destination_airport_iata|count|\n",
      "+------------------------+-----+\n",
      "|                     LAX|   70|\n",
      "|                     JFK|   63|\n",
      "|                     ORD|   40|\n",
      "|                     SFO|   36|\n",
      "|                     YYZ|   33|\n",
      "+------------------------+-----+\n",
      "only showing top 5 rows\n",
      "\n"
     ]
    }
   ],
   "source": [
    "nb_flights_destination.show(5)"
   ]
  },
  {
   "cell_type": "code",
   "execution_count": 225,
   "metadata": {},
   "outputs": [
    {
     "name": "stdout",
     "output_type": "stream",
     "text": [
      "+--------------------+----+----+---------+---------+-------+----+\n",
      "|                name|iata|icao|      lat|      lon|country| alt|\n",
      "+--------------------+----+----+---------+---------+-------+----+\n",
      "|\\tMasai Mara Keek...| KEU|HKKE|-1.586377|35.257462|  Kenya|5532|\n",
      "|    A Coruna Airport| LCG|LECO|43.302059| -8.37725|  Spain| 326|\n",
      "+--------------------+----+----+---------+---------+-------+----+\n",
      "only showing top 2 rows\n",
      "\n"
     ]
    }
   ],
   "source": [
    "airports_df.show(2)"
   ]
  },
  {
   "cell_type": "code",
   "execution_count": 232,
   "metadata": {},
   "outputs": [
    {
     "name": "stdout",
     "output_type": "stream",
     "text": [
      "+------------------------+-----+--------------------+----+----+---------+-----------+-------------+---+\n",
      "|destination_airport_iata|count|                name|iata|icao|      lat|        lon|      country|alt|\n",
      "+------------------------+-----+--------------------+----+----+---------+-----------+-------------+---+\n",
      "|                     LAX|   70|Los Angeles Inter...| LAX|KLAX| 33.94252|-118.406998|United States|125|\n",
      "|                     JFK|   63|New York John F. ...| JFK|KJFK|40.639751|   -73.7789|United States| 14|\n",
      "+------------------------+-----+--------------------+----+----+---------+-----------+-------------+---+\n",
      "only showing top 2 rows\n",
      "\n"
     ]
    }
   ],
   "source": [
    "nb_flights_destination.join(airports_df, nb_flights_destination.destination_airport_iata == airports_df.iata, \"inner\").sort(desc(\"count\")).show(2)"
   ]
  },
  {
   "cell_type": "code",
   "execution_count": 231,
   "metadata": {},
   "outputs": [
    {
     "name": "stdout",
     "output_type": "stream",
     "text": [
      "+------------------------+-----+\n",
      "|destination_airport_iata|count|\n",
      "+------------------------+-----+\n",
      "|                     LAX|   70|\n",
      "|                     JFK|   63|\n",
      "+------------------------+-----+\n",
      "only showing top 2 rows\n",
      "\n"
     ]
    }
   ],
   "source": [
    "nb_flights_destination.show(2)"
   ]
  },
  {
   "cell_type": "code",
   "execution_count": 233,
   "metadata": {},
   "outputs": [],
   "source": [
    "nb_flights_destination = flights_df.filter(flights_df.destination_airport_iata != 'N/A').groupBy('destination_airport_iata').count().withColumnRenamed(\"count\", \"destination_nb_flight\")"
   ]
  },
  {
   "cell_type": "code",
   "execution_count": 235,
   "metadata": {},
   "outputs": [],
   "source": [
    "nb_flights_origin = flights_df.filter(flights_df.origin_airport_iata != 'N/A').groupBy('origin_airport_iata').count().withColumnRenamed(\"count\", \"origin_nb_flight\")"
   ]
  },
  {
   "cell_type": "code",
   "execution_count": 236,
   "metadata": {},
   "outputs": [
    {
     "name": "stdout",
     "output_type": "stream",
     "text": [
      "+-------------------+----------------+\n",
      "|origin_airport_iata|origin_nb_flight|\n",
      "+-------------------+----------------+\n",
      "|                YUL|               2|\n",
      "|                NWI|               1|\n",
      "|                AUH|              12|\n",
      "|                JED|               5|\n",
      "|                FRA|              52|\n",
      "+-------------------+----------------+\n",
      "only showing top 5 rows\n",
      "\n"
     ]
    }
   ],
   "source": [
    "nb_flights_origin.show(5)"
   ]
  },
  {
   "cell_type": "code",
   "execution_count": 239,
   "metadata": {},
   "outputs": [],
   "source": [
    "difference_flights_airports = nb_flights_destination.join(nb_flights_origin, nb_flights_destination.destination_airport_iata == nb_flights_origin.origin_airport_iata, \"inner\")"
   ]
  },
  {
   "cell_type": "code",
   "execution_count": 241,
   "metadata": {},
   "outputs": [],
   "source": [
    "difference_flights_airports = difference_flights_airports.withColumn(\"inbound/outbound\", difference_flights_airports.destination_nb_flight - difference_flights_airports.origin_nb_flight)"
   ]
  },
  {
   "cell_type": "code",
   "execution_count": 245,
   "metadata": {},
   "outputs": [],
   "source": [
    "best_positive = difference_flights_airports.sort(desc(\"inbound/outbound\")).collect()[0][\"destination_airport_iata\"]\n",
    "best_negative = difference_flights_airports.sort(asc(\"inbound/outbound\")).collect()[0][\"destination_airport_iata\"]"
   ]
  },
  {
   "cell_type": "code",
   "execution_count": 248,
   "metadata": {},
   "outputs": [
    {
     "name": "stdout",
     "output_type": "stream",
     "text": [
      "+------------------------+---------------------+-------------------+----------------+----------------+\n",
      "|destination_airport_iata|destination_nb_flight|origin_airport_iata|origin_nb_flight|inbound/outbound|\n",
      "+------------------------+---------------------+-------------------+----------------+----------------+\n",
      "|                     LHR|                   20|                LHR|              60|             -40|\n",
      "|                     CDG|                   14|                CDG|              52|             -38|\n",
      "+------------------------+---------------------+-------------------+----------------+----------------+\n",
      "only showing top 2 rows\n",
      "\n"
     ]
    }
   ],
   "source": [
    "difference_flights_airports.sort(asc(\"inbound/outbound\")).show(2)"
   ]
  },
  {
   "cell_type": "code",
   "execution_count": 246,
   "metadata": {},
   "outputs": [
    {
     "data": {
      "text/plain": [
       "'LAX'"
      ]
     },
     "execution_count": 246,
     "metadata": {},
     "output_type": "execute_result"
    }
   ],
   "source": [
    "best_positive"
   ]
  },
  {
   "cell_type": "code",
   "execution_count": 247,
   "metadata": {},
   "outputs": [
    {
     "data": {
      "text/plain": [
       "'LHR'"
      ]
     },
     "execution_count": 247,
     "metadata": {},
     "output_type": "execute_result"
    }
   ],
   "source": [
    "best_negative"
   ]
  },
  {
   "cell_type": "code",
   "execution_count": 251,
   "metadata": {},
   "outputs": [
    {
     "data": {
      "text/plain": [
       "{'tl_y': 72.57,\n",
       " 'tl_x': -16.96,\n",
       " 'br_y': 33.57,\n",
       " 'br_x': 53.05,\n",
       " 'subzones': {'poland': {'tl_y': 56.86,\n",
       "   'tl_x': 11.06,\n",
       "   'br_y': 48.22,\n",
       "   'br_x': 28.26},\n",
       "  'germany': {'tl_y': 57.92, 'tl_x': 1.81, 'br_y': 45.81, 'br_x': 16.83},\n",
       "  'uk': {'tl_y': 62.61,\n",
       "   'tl_x': -13.07,\n",
       "   'br_y': 49.71,\n",
       "   'br_x': 3.46,\n",
       "   'subzones': {'london': {'tl_y': 53.06,\n",
       "     'tl_x': -2.87,\n",
       "     'br_y': 50.07,\n",
       "     'br_x': 3.26},\n",
       "    'ireland': {'tl_y': 56.22, 'tl_x': -11.71, 'br_y': 50.91, 'br_x': -4.4}}},\n",
       "  'spain': {'tl_y': 44.36, 'tl_x': -11.06, 'br_y': 35.76, 'br_x': 4.04},\n",
       "  'france': {'tl_y': 51.07, 'tl_x': -5.18, 'br_y': 42.17, 'br_x': 8.9},\n",
       "  'ceur': {'tl_y': 51.39, 'tl_x': 11.25, 'br_y': 39.72, 'br_x': 32.55},\n",
       "  'scandinavia': {'tl_y': 72.12, 'tl_x': -0.73, 'br_y': 53.82, 'br_x': 40.67},\n",
       "  'italy': {'tl_y': 47.67, 'tl_x': 5.26, 'br_y': 36.27, 'br_x': 20.64}}}"
      ]
     },
     "execution_count": 251,
     "metadata": {},
     "output_type": "execute_result"
    }
   ],
   "source": [
    "zones['europe']"
   ]
  },
  {
   "cell_type": "code",
   "execution_count": 250,
   "metadata": {},
   "outputs": [
    {
     "data": {
      "text/plain": [
       "{'europe': {'tl_y': 72.57,\n",
       "  'tl_x': -16.96,\n",
       "  'br_y': 33.57,\n",
       "  'br_x': 53.05,\n",
       "  'subzones': {'poland': {'tl_y': 56.86,\n",
       "    'tl_x': 11.06,\n",
       "    'br_y': 48.22,\n",
       "    'br_x': 28.26},\n",
       "   'germany': {'tl_y': 57.92, 'tl_x': 1.81, 'br_y': 45.81, 'br_x': 16.83},\n",
       "   'uk': {'tl_y': 62.61,\n",
       "    'tl_x': -13.07,\n",
       "    'br_y': 49.71,\n",
       "    'br_x': 3.46,\n",
       "    'subzones': {'london': {'tl_y': 53.06,\n",
       "      'tl_x': -2.87,\n",
       "      'br_y': 50.07,\n",
       "      'br_x': 3.26},\n",
       "     'ireland': {'tl_y': 56.22, 'tl_x': -11.71, 'br_y': 50.91, 'br_x': -4.4}}},\n",
       "   'spain': {'tl_y': 44.36, 'tl_x': -11.06, 'br_y': 35.76, 'br_x': 4.04},\n",
       "   'france': {'tl_y': 51.07, 'tl_x': -5.18, 'br_y': 42.17, 'br_x': 8.9},\n",
       "   'ceur': {'tl_y': 51.39, 'tl_x': 11.25, 'br_y': 39.72, 'br_x': 32.55},\n",
       "   'scandinavia': {'tl_y': 72.12, 'tl_x': -0.73, 'br_y': 53.82, 'br_x': 40.67},\n",
       "   'italy': {'tl_y': 47.67, 'tl_x': 5.26, 'br_y': 36.27, 'br_x': 20.64}}},\n",
       " 'northamerica': {'tl_y': 75,\n",
       "  'tl_x': -180,\n",
       "  'br_y': 3,\n",
       "  'br_x': -52,\n",
       "  'subzones': {'na_n': {'tl_y': 72.82,\n",
       "    'tl_x': -177.97,\n",
       "    'br_y': 41.92,\n",
       "    'br_x': -52.48},\n",
       "   'na_c': {'tl_y': 54.66,\n",
       "    'tl_x': -134.68,\n",
       "    'br_y': 22.16,\n",
       "    'br_x': -56.91,\n",
       "    'subzones': {'na_cny': {'tl_y': 45.06,\n",
       "      'tl_x': -83.69,\n",
       "      'br_y': 35.96,\n",
       "      'br_x': -64.29},\n",
       "     'na_cla': {'tl_y': 37.91,\n",
       "      'tl_x': -126.12,\n",
       "      'br_y': 30.21,\n",
       "      'br_x': -110.02},\n",
       "     'na_cat': {'tl_y': 35.86, 'tl_x': -92.61, 'br_y': 22.56, 'br_x': -71.19},\n",
       "     'na_cse': {'tl_y': 49.12,\n",
       "      'tl_x': -126.15,\n",
       "      'br_y': 42.97,\n",
       "      'br_x': -111.92},\n",
       "     'na_nw': {'tl_y': 54.12, 'tl_x': -134.13, 'br_y': 38.32, 'br_x': -96.75},\n",
       "     'na_ne': {'tl_y': 53.72, 'tl_x': -98.76, 'br_y': 38.22, 'br_x': -57.36},\n",
       "     'na_sw': {'tl_y': 38.92, 'tl_x': -133.98, 'br_y': 22.62, 'br_x': -96.75},\n",
       "     'na_se': {'tl_y': 38.52, 'tl_x': -98.62, 'br_y': 22.52, 'br_x': -57.36},\n",
       "     'na_cc': {'tl_y': 45.92,\n",
       "      'tl_x': -116.88,\n",
       "      'br_y': 27.62,\n",
       "      'br_x': -75.91}}},\n",
       "   'na_s': {'tl_y': 41.92, 'tl_x': -177.83, 'br_y': 3.82, 'br_x': -52.48}}},\n",
       " 'southamerica': {'tl_y': 16, 'tl_x': -96, 'br_y': -57, 'br_x': -31},\n",
       " 'oceania': {'tl_y': 19.62, 'tl_x': 88.4, 'br_y': -55.08, 'br_x': 180},\n",
       " 'asia': {'tl_y': 79.98,\n",
       "  'tl_x': 40.91,\n",
       "  'br_y': 12.48,\n",
       "  'br_x': 179.77,\n",
       "  'subzones': {'japan': {'tl_y': 60.38,\n",
       "    'tl_x': 113.5,\n",
       "    'br_y': 22.58,\n",
       "    'br_x': 176.47}}},\n",
       " 'africa': {'tl_y': 39, 'tl_x': -29, 'br_y': -39, 'br_x': 55},\n",
       " 'atlantic': {'tl_y': 52.62, 'tl_x': -50.9, 'br_y': 15.62, 'br_x': -4.75},\n",
       " 'maldives': {'tl_y': 10.72, 'tl_x': 63.1, 'br_y': -6.08, 'br_x': 86.53},\n",
       " 'northatlantic': {'tl_y': 82.62, 'tl_x': -84.53, 'br_y': 59.02, 'br_x': 4.45}}"
      ]
     },
     "execution_count": 250,
     "metadata": {},
     "output_type": "execute_result"
    }
   ],
   "source": [
    "zones"
   ]
  },
  {
   "cell_type": "code",
   "execution_count": 260,
   "metadata": {},
   "outputs": [
    {
     "data": {
      "text/plain": [
       "dict_keys(['europe', 'northamerica', 'southamerica', 'oceania', 'asia', 'africa', 'atlantic', 'maldives', 'northatlantic'])"
      ]
     },
     "execution_count": 260,
     "metadata": {},
     "output_type": "execute_result"
    }
   ],
   "source": [
    "zones.keys()"
   ]
  },
  {
   "cell_type": "code",
   "execution_count": 273,
   "metadata": {},
   "outputs": [
    {
     "data": {
      "text/plain": [
       "1500"
      ]
     },
     "execution_count": 273,
     "metadata": {},
     "output_type": "execute_result"
    }
   ],
   "source": [
    "spark.createDataFrame(fr_api.get_flights()).count()"
   ]
  },
  {
   "cell_type": "code",
   "execution_count": 274,
   "metadata": {},
   "outputs": [],
   "source": [
    "bounds = fr_api.get_bounds(zones['asia'])"
   ]
  },
  {
   "cell_type": "code",
   "execution_count": 270,
   "metadata": {},
   "outputs": [],
   "source": [
    "flights = fr_api.get_flights(bounds=fr_api.get_bounds(zones['asia']))"
   ]
  },
  {
   "cell_type": "code",
   "execution_count": 283,
   "metadata": {},
   "outputs": [],
   "source": [
    "df_southamerica = spark.createDataFrame(fr_api.get_flights(bounds=fr_api.get_bounds(zones['southamerica'])))"
   ]
  },
  {
   "cell_type": "code",
   "execution_count": 285,
   "metadata": {},
   "outputs": [
    {
     "name": "stdout",
     "output_type": "stream",
     "text": [
      "+-------------+------------+------------+--------+--------+------------------------+------------+-------+----------+--------+--------+---------+------+---------+-------------------+------------+------+----------+--------------+\n",
      "|aircraft_code|airline_iata|airline_icao|altitude|callsign|destination_airport_iata|ground_speed|heading|icao_24bit|      id|latitude|longitude|number|on_ground|origin_airport_iata|registration|squawk|      time|vertical_speed|\n",
      "+-------------+------------+------------+--------+--------+------------------------+------------+-------+----------+--------+--------+---------+------+---------+-------------------+------------+------+----------+--------------+\n",
      "|         GLF5|         N/A|         N/A|   47000|    GLF5|                     N/A|         471|      2|       N/A|2d9b4845|    4.52|    -79.7|   N/A|        0|                N/A|         N/A|   N/A|1664141174|           -64|\n",
      "+-------------+------------+------------+--------+--------+------------------------+------------+-------+----------+--------+--------+---------+------+---------+-------------------+------------+------+----------+--------------+\n",
      "only showing top 1 row\n",
      "\n"
     ]
    }
   ],
   "source": [
    "df_southamerica.show(1)"
   ]
  },
  {
   "cell_type": "code",
   "execution_count": 308,
   "metadata": {},
   "outputs": [
    {
     "data": {
      "text/plain": [
       "1276"
      ]
     },
     "execution_count": 308,
     "metadata": {},
     "output_type": "execute_result"
    }
   ],
   "source": [
    "len(fr_api.get_flights(bounds=fr_api.get_bounds(zones['asia'])))"
   ]
  },
  {
   "cell_type": "code",
   "execution_count": 335,
   "metadata": {},
   "outputs": [
    {
     "data": {
      "text/plain": [
       "1441"
      ]
     },
     "execution_count": 335,
     "metadata": {},
     "output_type": "execute_result"
    }
   ],
   "source": [
    "df_southamerica = spark.createDataFrame(fr_api.get_flights(bounds=fr_api.get_bounds(zones['europe'])))\n",
    "\n",
    "df_southamerica.filter((df_southamerica.destination_airport_iata != 'N/A') & (df_southamerica.origin_airport_iata != 'N/A')).count()\n"
   ]
  },
  {
   "cell_type": "code",
   "execution_count": 341,
   "metadata": {},
   "outputs": [
    {
     "name": "stdout",
     "output_type": "stream",
     "text": [
      "+--------------------+----+----+---------+---------+-------+----+\n",
      "|                name|iata|icao|      lat|      lon|country| alt|\n",
      "+--------------------+----+----+---------+---------+-------+----+\n",
      "|\\tMasai Mara Keek...| KEU|HKKE|-1.586377|35.257462|  Kenya|5532|\n",
      "+--------------------+----+----+---------+---------+-------+----+\n",
      "only showing top 1 row\n",
      "\n"
     ]
    }
   ],
   "source": [
    "airports_df.where(airports_df.iata=)"
   ]
  },
  {
   "cell_type": "code",
   "execution_count": 339,
   "metadata": {},
   "outputs": [
    {
     "name": "stdout",
     "output_type": "stream",
     "text": [
      "+-------------+------------+------------+--------+--------+------------------------+------------+-------+----------+--------+--------+---------+------+---------+-------------------+------------+------+----------+--------------+\n",
      "|aircraft_code|airline_iata|airline_icao|altitude|callsign|destination_airport_iata|ground_speed|heading|icao_24bit|      id|latitude|longitude|number|on_ground|origin_airport_iata|registration|squawk|      time|vertical_speed|\n",
      "+-------------+------------+------------+--------+--------+------------------------+------------+-------+----------+--------+--------+---------+------+---------+-------------------+------------+------+----------+--------------+\n",
      "|         GL5T|         N/A|         N/A|   45000|  N404NA|                     SID|         438|    216|    A4BCAA|2d9b3d8c|   34.34|   -14.06|   N/A|        0|                MAD|      N404NA|   N/A|1664142917|             0|\n",
      "|         C25A|         N/A|         FXT|   43000|  FXT52W|                     BRU|         364|     36|    45AA77|2d9b4662|    46.0|    -2.19|   N/A|        0|                LIS|      OY-JSW|   N/A|1664142916|             0|\n",
      "|         C25A|         N/A|         BNJ|   43000|   OOACC|                     BRU|         390|    323|    448463|2d9b4c90|   46.69|    14.68|   N/A|        0|                CFU|      OO-ACC|   N/A|1664142917|             0|\n",
      "|         B738|         N/A|         ENT|   41000| ENT55JF|                     RHO|         504|    116|    489226|2d9b5960|   44.99|    14.42|   N/A|        0|                LUX|      SP-ESG|   N/A|1664142914|           -64|\n",
      "|         B38M|         N/A|         TUI|   41000|  TOM6VT|                     HER|         464|    130|    40796B|2d9b64ee|   49.43|     4.56|   N/A|        0|                LGW|      G-TUMM|   N/A|1664142917|             0|\n",
      "|         A333|          TK|         THY|   41000|  THY2HG|                     IST|         481|    120|    4BA9E7|2d9b604e|   50.66|     12.7|TK1956|        0|                AMS|      TC-JOG|   N/A|1664142917|            64|\n",
      "|         B738|          QS|         TVS|   41000| TVS4534|                     GUW|         510|    108|    49D287|2d9b1b46|   41.34|    45.16|QS4534|        0|                BUD|      OK-TVV|   N/A|1664142916|          -128|\n",
      "|         B789|          SV|         SVA|   41000|  SVA372|                     JED|         544|     93|    71011E|2d9b4d46|   36.48|     6.86| SV372|        0|                CMN|      HZ-ARE|   N/A|1664142915|             0|\n",
      "|         B738|          FR|         RYR|   41000| RYR23MK|                     PMI|         448|    199|    4CA226|2d9b6ad8|   45.78|     5.82|FR4140|        0|                HHN|      EI-DCJ|   N/A|1664142916|             0|\n",
      "|         B738|          FR|         RYR|   41000|  RYR1WT|                     IBZ|         457|    172|    4CA242|2d9b4f2a|   44.11|     1.69|FR2626|        0|                MAN|      EI-DCL|   N/A|1664142917|           -64|\n",
      "|         B788|          QR|         QTR|   40975|   QTR9V|                     DOH|         530|    143|    06A0B8|2d9af2ca|   35.55|    43.38|  QR72|        0|                FRA|      A7-BCT|   N/A|1664142918|             0|\n",
      "|         B788|          WY|         OMA|   40975|  OMA124|                     MCT|         532|    118|    70C0CE|2d9b4544|   44.15|    26.23| WY124|        0|                MUC|      A4O-SB|   N/A|1664142916|             0|\n",
      "|         E550|          CD|         CDX|   40000|  CDX553|                     BEY|         389|    264|    748053|2d9b6fe2|   40.01|    42.01|CDX553|        0|                EVN|      OD-CXL|   N/A|1664142915|           -64|\n",
      "|         A333|          MB|         MNB|   40000|  MNB631|                     LGG|         422|    308|    4BB46E|2d9b5ce9|    43.6|    24.83| MB631|        0|                IST|      TC-MCN|   N/A|1664142915|             0|\n",
      "|         A339|          6O|         EVE|   40000|  OBS102|                     MAD|         416|    296|    495168|2d9abeca|   37.86|    17.94| 6O102|        0|                DWC|      CS-TKH|   N/A|1664142915|             0|\n",
      "|         A332|          2S|         STW|   40000| STW1824|                     AYT|         407|    276|    4B9E41|2d9b1a71|   41.49|     45.3|2S1824|        0|                KZN|      TC-GRA|   N/A|1664142916|             0|\n",
      "|         A332|          KF|         CMA|   40000|  ABB662|                     LGG|         484|    307|    448532|2d9b14c8|   39.43|    38.63| KF662|        0|                DWC|      OO-AIR|   N/A|1664142918|             0|\n",
      "|         E550|         N/A|         FJO|   40000|  FJO52R|                     LTN|         370|     33|    4D23CF|2d9b3e24|   48.52|    -2.22|   N/A|        0|                FAO|      9H-RFX|   N/A|1664142916|             0|\n",
      "|         B38M|          OR|         TUI|   40000|  TFL1TN|                     AMS|         390|     31|    485A85|2d9afa06|   49.48|     1.97|OR1623|        0|                TFS|      PH-TFT|   N/A|1664142917|            64|\n",
      "|         B38M|          FI|         ICE|   40000|  ICE325|                     KEF|         458|    286|    4CC547|2d9b5e2c|   61.88|     0.88| FI325|        0|                OSL|      TF-ICR|   N/A|1664142916|             0|\n",
      "|         A332|          LS|         EXS|   40000|  EXS84H|                     MAN|         433|     21|    406E9F|2d9b3a98|   41.07|   -11.47| LS918|        0|                TFS|      G-VYGM|   N/A|1664142917|             0|\n",
      "|         A359|          AY|         FIN|   40000|   FIN42|                     HEL|         416|    280|    461F53|2d9a054c|   41.39|     46.1|  AY42|        0|                ICN|      OH-LWL|   N/A|1664142916|             0|\n",
      "|         H25B|         N/A|         N/A|   40000| LLT108E|                     RIX|         342|    278|    503D1A|2d9b487c|    42.2|    35.07|   N/A|        0|                TBS|      LY-BGH|   N/A|1664142915|            64|\n",
      "|         A359|          AY|         FIN|   40000|  FIN132|                     HEL|         449|    317|    461F4B|2d9a3505|    39.7|    49.03| AY132|        0|                SIN|      OH-LWD|   N/A|1664142916|             0|\n",
      "|         B738|          XQ|         SXS|   39875|  SXS5EA|                     ASR|         459|    132|    4BCDFA|2d9b4648|   43.75|    22.32| XQ761|        0|                STR|      TC-SOZ|   N/A|1664142916|           832|\n",
      "|         A388|          EK|         UAE|   39375| UAE46HN|                     DXB|         505|    118|    896183|2d9b1236|   42.38|    29.62|  EK32|        0|                LHR|      A6-EED|   N/A|1664142916|           640|\n",
      "|         C650|         N/A|         N/A|   39050|   CNSRA|                     RAK|         350|    227|    020137|2d9b609b|   39.51|    -0.45|   N/A|        0|                TLS|      CN-SRA|   N/A|1664142914|             0|\n",
      "|         A319|          BA|         BAW|   39050|  BAW582|                     MXP|         473|    131|    400B84|2d9b5d76|   47.22|     4.42| BA582|        0|                LHR|      G-DBCF|   N/A|1664142917|            64|\n",
      "|         A320|          W6|         WZZ|   39025| WZZ2176|                     KTW|         478|    137|    471F8A|2d9b5c8c|    54.4|    13.28|W61222|        0|                SVG|      HA-LYO|   N/A|1664142916|           -64|\n",
      "|         B752|          D0|         DHK|   39025| DHK2213|                     LEJ|         477|     89|    400666|2d9b6b45|   52.09|     2.82|D02213|        0|                LTN|      G-BMRD|   N/A|1664142916|           -64|\n",
      "+-------------+------------+------------+--------+--------+------------------------+------------+-------+----------+--------+--------+---------+------+---------+-------------------+------------+------+----------+--------------+\n",
      "only showing top 30 rows\n",
      "\n"
     ]
    }
   ],
   "source": [
    "df_southamerica.filter((df_southamerica.destination_airport_iata != 'N/A') & (df_southamerica.origin_airport_iata != 'N/A')).show(30)"
   ]
  },
  {
   "cell_type": "code",
   "execution_count": 334,
   "metadata": {},
   "outputs": [
    {
     "data": {
      "text/plain": [
       "dict_keys(['europe', 'northamerica', 'southamerica', 'oceania', 'asia', 'africa', 'atlantic', 'maldives', 'northatlantic'])"
      ]
     },
     "execution_count": 334,
     "metadata": {},
     "output_type": "execute_result"
    }
   ],
   "source": [
    "zones.keys()"
   ]
  },
  {
   "cell_type": "code",
   "execution_count": 329,
   "metadata": {},
   "outputs": [
    {
     "name": "stdout",
     "output_type": "stream",
     "text": [
      "None\n"
     ]
    }
   ],
   "source": [
    "details = fr_api.get_flight_details(flights[0].id)\n",
    "print(flights[0].set_flight_details(details))\n"
   ]
  },
  {
   "cell_type": "code",
   "execution_count": null,
   "metadata": {},
   "outputs": [],
   "source": []
  },
  {
   "cell_type": "code",
   "execution_count": null,
   "metadata": {},
   "outputs": [],
   "source": []
  }
 ],
 "metadata": {
  "kernelspec": {
   "display_name": "Python 3.8.9 64-bit",
   "language": "python",
   "name": "python3"
  },
  "language_info": {
   "codemirror_mode": {
    "name": "ipython",
    "version": 3
   },
   "file_extension": ".py",
   "mimetype": "text/x-python",
   "name": "python",
   "nbconvert_exporter": "python",
   "pygments_lexer": "ipython3",
   "version": "3.8.9"
  },
  "orig_nbformat": 4,
  "vscode": {
   "interpreter": {
    "hash": "31f2aee4e71d21fbe5cf8b01ff0e069b9275f58929596ceb00d14d90e3e16cd6"
   }
  }
 },
 "nbformat": 4,
 "nbformat_minor": 2
}
